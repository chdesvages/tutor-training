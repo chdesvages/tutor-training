{
 "cells": [
  {
   "cell_type": "markdown",
   "id": "c9ea09fc-d8ae-482b-a735-dd82aa34a2bd",
   "metadata": {},
   "source": [
    "## Exercise: Wordle feedback\n",
    "\n",
    "Wordle is a game where the player must guess a secret word. Each turn, the player makes a guess, and the game tells the player:\n",
    "\n",
    "- which letters are correct, and in the correct place (✅),\n",
    "- which letters are in the secret word, but at the wrong place (☑️),\n",
    "- which letters are not in the word at all (🚫).\n",
    "\n",
    "Write a function `wordle_feedback(guess, secret)` which takes 2 strings of the same length, `guess` and `secret`, and gives the player feedback on their guess according to the rules above."
   ]
  },
  {
   "cell_type": "markdown",
   "id": "65502484-5c82-4286-ad8b-8fbe44466b8a",
   "metadata": {
    "jp-MarkdownHeadingCollapsed": true,
    "tags": []
   },
   "source": [
    "---\n",
    "## Model solution (given by CO)"
   ]
  },
  {
   "cell_type": "code",
   "execution_count": 16,
   "id": "314ff53d-aca3-4322-8a2f-0b3a4597f1be",
   "metadata": {},
   "outputs": [
    {
     "name": "stdout",
     "output_type": "stream",
     "text": [
      "✅p 🚫e ☑️a ✅c ✅h\n"
     ]
    }
   ],
   "source": [
    "def wordle_feedback(guess, secret):\n",
    "    # Start an empty list to store feedback\n",
    "    feedback = []\n",
    "    \n",
    "    # Loop over each letter of the guess\n",
    "    for i in range(len(guess)):\n",
    "        \n",
    "        # Check if letter is in the word at all\n",
    "        if guess[i] not in secret:\n",
    "            symbol = '🚫'\n",
    "        # Check if letter is in the word, and at the correct place\n",
    "        elif guess[i] == secret[i]:\n",
    "            symbol = '✅'\n",
    "        # Otherwise, letter is in the word, but not at the right place\n",
    "        else:\n",
    "            symbol = '☑️'\n",
    "        \n",
    "        # Append the symbol and letter to the feedback list\n",
    "        feedback.append(f'{symbol}{guess[i]}')\n",
    "    \n",
    "    # Concatenate substrings into a large string, letters separated by space\n",
    "    print(' '.join(feedback))\n",
    "    \n",
    "\n",
    "# Testing\n",
    "secret = 'parch'\n",
    "guess = 'peach'\n",
    "wordle_feedback(guess, secret)"
   ]
  }
 ],
 "metadata": {
  "kernelspec": {
   "display_name": "Python 3 (ipykernel)",
   "language": "python",
   "name": "python3"
  },
  "language_info": {
   "codemirror_mode": {
    "name": "ipython",
    "version": 3
   },
   "file_extension": ".py",
   "mimetype": "text/x-python",
   "name": "python",
   "nbconvert_exporter": "python",
   "pygments_lexer": "ipython3",
   "version": "3.9.12"
  }
 },
 "nbformat": 4,
 "nbformat_minor": 5
}

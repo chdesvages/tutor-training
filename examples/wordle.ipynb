{
 "cells": [
  {
   "cell_type": "markdown",
   "id": "4b477ed4-5150-4462-b4c8-a9c24b3d9da2",
   "metadata": {},
   "source": [
    "## Exercise: Wordle feedback\n",
    "\n",
    "Wordle is a game where the player must guess a secret word. Each turn, the player makes a guess, and the game tells the player:\n",
    "\n",
    "- which letters are correct, and in the correct place (✅),\n",
    "- which letters are in the secret word, but at the wrong place (☑️),\n",
    "- which letters are not in the word at all (🚫).\n",
    "\n",
    "Write a function `wordle_feedback(guess, secret)` which takes 2 strings of the same length, `guess` and `secret`, and gives the player feedback on their guess according to the rules above."
   ]
  },
  {
   "cell_type": "markdown",
   "id": "68575fd0-a287-4e41-8e94-f71db15c95e4",
   "metadata": {
    "tags": []
   },
   "source": [
    "---\n",
    "## Student's attempt"
   ]
  },
  {
   "cell_type": "code",
   "execution_count": null,
   "id": "e500bb1f-aa51-4879-91d8-9a87f553aad4",
   "metadata": {},
   "outputs": [],
   "source": [
    "def wordle_feedback(guess, secret):\n",
    "    feedback=''\n",
    "    for letter in guess:\n",
    "        if letter[i] in secret:\n",
    "            feedback+='☑️'+letter[i ]+' '\n",
    "            \n",
    "        elif letter[i]==secret :\n",
    "            feedback+='✅'+letter[i]+' '\n",
    "        else:\n",
    "            feedback+='🚫'+letter[i]+ ' '\n",
    "    print(feedback)\n",
    "secret='apple'\n",
    "guess= 'peach'\n",
    "wordle_feedback(guess,secret)"
   ]
  },
  {
   "cell_type": "markdown",
   "id": "771fd9a3-250e-4a97-8f1a-8e24966dbaf9",
   "metadata": {
    "jp-MarkdownHeadingCollapsed": true,
    "tags": []
   },
   "source": [
    "## Python help for those unfamiliar"
   ]
  },
  {
   "cell_type": "code",
   "execution_count": null,
   "id": "82de2ee3-e20b-41d0-9689-4fd425c1a756",
   "metadata": {},
   "outputs": [],
   "source": [
    "# f-strings: inserting values into a formatted string\n",
    "a = 2\n",
    "b = 3.5\n",
    "my_string = f'The result of {a} + {b} is {a+b}.'\n",
    "print(my_string)"
   ]
  },
  {
   "cell_type": "code",
   "execution_count": null,
   "id": "ed682a16-57cd-4b8a-9c0a-8f38a3c26289",
   "metadata": {},
   "outputs": [],
   "source": [
    "# The enumerate() function\n",
    "for x, y in enumerate('HELLO'):\n",
    "    print(x, y)"
   ]
  },
  {
   "cell_type": "code",
   "execution_count": null,
   "id": "0bd9dd63-362e-43ce-983c-3eb62d094960",
   "metadata": {},
   "outputs": [],
   "source": [
    "# You can concatenate strings using +\n",
    "print('a' + 'b' + 'c')\n",
    "\n",
    "# Append a new string to an existing string\n",
    "x = 'AAA'\n",
    "x += 'BB'      # same as x = x + 'BB'\n",
    "print(x)"
   ]
  },
  {
   "cell_type": "code",
   "execution_count": null,
   "id": "c32ecc07-dcf2-4431-aa97-defaea4198a0",
   "metadata": {},
   "outputs": [],
   "source": [
    "# Joining a list of strings into a single string\n",
    "list_of_strings = ['dd', 'ee', 'ff', 'xx']\n",
    "print(list_of_strings)\n",
    "print('%%%'.join(list_of_strings))\n",
    "print(''.join(list_of_strings))"
   ]
  }
 ],
 "metadata": {
  "kernelspec": {
   "display_name": "Python 3 (ipykernel)",
   "language": "python",
   "name": "python3"
  },
  "language_info": {
   "codemirror_mode": {
    "name": "ipython",
    "version": 3
   },
   "file_extension": ".py",
   "mimetype": "text/x-python",
   "name": "python",
   "nbconvert_exporter": "python",
   "pygments_lexer": "ipython3",
   "version": "3.12.0"
  }
 },
 "nbformat": 4,
 "nbformat_minor": 5
}
